{
 "cells": [
  {
   "attachments": {},
   "cell_type": "markdown",
   "metadata": {},
   "source": [
    "# Pima Indians Diabetes Database"
   ]
  },
  {
   "attachments": {},
   "cell_type": "markdown",
   "metadata": {},
   "source": [
    "## Train/Test Split"
   ]
  },
  {
   "cell_type": "code",
   "execution_count": 44,
   "metadata": {},
   "outputs": [],
   "source": [
    "import numpy as np \n",
    "import pandas as pd \n",
    "import matplotlib.pyplot as plt \n",
    "\n",
    "from sklearn import datasets, linear_model, metrics\n",
    "from sklearn.model_selection import train_test_split, KFold, cross_val_score, cross_val_predict\n",
    "from sklearn.metrics import confusion_matrix, accuracy_score, classification_report, precision_score, f1_score\n",
    "from sklearn.tree import DecisionTreeClassifier \n",
    "from sklearn.ensemble import RandomForestClassifier, BaggingClassifier, AdaBoostClassifier, GradientBoostingClassifier\n",
    "from sklearn import model_selection"
   ]
  },
  {
   "cell_type": "code",
   "execution_count": 24,
   "metadata": {},
   "outputs": [
    {
     "data": {
      "text/html": [
       "<div>\n",
       "<style scoped>\n",
       "    .dataframe tbody tr th:only-of-type {\n",
       "        vertical-align: middle;\n",
       "    }\n",
       "\n",
       "    .dataframe tbody tr th {\n",
       "        vertical-align: top;\n",
       "    }\n",
       "\n",
       "    .dataframe thead th {\n",
       "        text-align: right;\n",
       "    }\n",
       "</style>\n",
       "<table border=\"1\" class=\"dataframe\">\n",
       "  <thead>\n",
       "    <tr style=\"text-align: right;\">\n",
       "      <th></th>\n",
       "      <th>preg</th>\n",
       "      <th>plas</th>\n",
       "      <th>pres</th>\n",
       "      <th>skin</th>\n",
       "      <th>test</th>\n",
       "      <th>mass</th>\n",
       "      <th>pedi</th>\n",
       "      <th>age</th>\n",
       "      <th>class</th>\n",
       "    </tr>\n",
       "  </thead>\n",
       "  <tbody>\n",
       "    <tr>\n",
       "      <th>0</th>\n",
       "      <td>6</td>\n",
       "      <td>148</td>\n",
       "      <td>72</td>\n",
       "      <td>35</td>\n",
       "      <td>0</td>\n",
       "      <td>33.6</td>\n",
       "      <td>0.627</td>\n",
       "      <td>50</td>\n",
       "      <td>1</td>\n",
       "    </tr>\n",
       "    <tr>\n",
       "      <th>1</th>\n",
       "      <td>1</td>\n",
       "      <td>85</td>\n",
       "      <td>66</td>\n",
       "      <td>29</td>\n",
       "      <td>0</td>\n",
       "      <td>26.6</td>\n",
       "      <td>0.351</td>\n",
       "      <td>31</td>\n",
       "      <td>0</td>\n",
       "    </tr>\n",
       "    <tr>\n",
       "      <th>2</th>\n",
       "      <td>8</td>\n",
       "      <td>183</td>\n",
       "      <td>64</td>\n",
       "      <td>0</td>\n",
       "      <td>0</td>\n",
       "      <td>23.3</td>\n",
       "      <td>0.672</td>\n",
       "      <td>32</td>\n",
       "      <td>1</td>\n",
       "    </tr>\n",
       "    <tr>\n",
       "      <th>3</th>\n",
       "      <td>1</td>\n",
       "      <td>89</td>\n",
       "      <td>66</td>\n",
       "      <td>23</td>\n",
       "      <td>94</td>\n",
       "      <td>28.1</td>\n",
       "      <td>0.167</td>\n",
       "      <td>21</td>\n",
       "      <td>0</td>\n",
       "    </tr>\n",
       "    <tr>\n",
       "      <th>4</th>\n",
       "      <td>0</td>\n",
       "      <td>137</td>\n",
       "      <td>40</td>\n",
       "      <td>35</td>\n",
       "      <td>168</td>\n",
       "      <td>43.1</td>\n",
       "      <td>2.288</td>\n",
       "      <td>33</td>\n",
       "      <td>1</td>\n",
       "    </tr>\n",
       "  </tbody>\n",
       "</table>\n",
       "</div>"
      ],
      "text/plain": [
       "   preg  plas  pres  skin  test  mass   pedi  age  class\n",
       "0     6   148    72    35     0  33.6  0.627   50      1\n",
       "1     1    85    66    29     0  26.6  0.351   31      0\n",
       "2     8   183    64     0     0  23.3  0.672   32      1\n",
       "3     1    89    66    23    94  28.1  0.167   21      0\n",
       "4     0   137    40    35   168  43.1  2.288   33      1"
      ]
     },
     "execution_count": 24,
     "metadata": {},
     "output_type": "execute_result"
    }
   ],
   "source": [
    "url = \"https://raw.githubusercontent.com/jbrownlee/Datasets/master/pima-indians-diabetes.data.csv\"\n",
    "names = ['preg', 'plas', 'pres', 'skin', 'test', 'mass', 'pedi', 'age', 'class']\n",
    "dataframe = pd.read_csv(url, names=names)\n",
    "array = dataframe.values\n",
    "\n",
    "dataframe.head()"
   ]
  },
  {
   "cell_type": "code",
   "execution_count": 25,
   "metadata": {},
   "outputs": [],
   "source": [
    "def split_dataframe(dataframe):\n",
    "    \"\"\"\n",
    "    Split the dataset into training & test sets using a 70/30 split.\n",
    "    I expect the input dataset to have the class label as the first column\n",
    "    and the feature values as the remaining columns.\n",
    "    \"\"\"\n",
    "\n",
    "    X = array[:,0:8]\n",
    "    Y = array[:,8]\n",
    "\n",
    "    X_train, X_test, y_train, y_test = train_test_split(\n",
    "        X, Y, test_size=0.3, random_state=100)\n",
    "\n",
    "    # Print the shapes of the resulting train and test sets\n",
    "    print(f\"Training features shape: {X_train.shape}, labels shape: {y_train.shape}\")\n",
    "    print(f\"Test features shape: {X_test.shape}, labels shape: {y_test.shape}\")\n",
    "\n",
    "    return X, Y, X_train, X_test, y_train, y_test"
   ]
  },
  {
   "cell_type": "code",
   "execution_count": 26,
   "metadata": {},
   "outputs": [
    {
     "name": "stdout",
     "output_type": "stream",
     "text": [
      "Training features shape: (537, 8), labels shape: (537,)\n",
      "Test features shape: (231, 8), labels shape: (231,)\n"
     ]
    }
   ],
   "source": [
    "# Split the dataset into training and test sets\n",
    "X, Y, X_train, X_test, y_train, y_test = split_dataframe(dataframe)"
   ]
  },
  {
   "attachments": {},
   "cell_type": "markdown",
   "metadata": {},
   "source": [
    "## K-Fold Cross Validation"
   ]
  },
  {
   "cell_type": "code",
   "execution_count": 27,
   "metadata": {},
   "outputs": [
    {
     "name": "stdout",
     "output_type": "stream",
     "text": [
      "Cross-validated scores: [0.25246861 0.29965553 0.2195045  0.21024473 0.40474136 0.29847004]\n",
      "Cross-Predicted Accuracy: 0.2851287142303135\n"
     ]
    },
    {
     "data": {
      "image/png": "[encoded data removed]",
      "text/plain": [
       "<Figure size 640x480 with 1 Axes>"
      ]
     },
     "metadata": {},
     "output_type": "display_data"
    }
   ],
   "source": [
    "# fit a model\n",
    "model = linear_model.LinearRegression()\n",
    "\n",
    "# Perform 6-fold cross validation\n",
    "scores = cross_val_score(model, X, Y, cv=6)\n",
    "print(\"Cross-validated scores:\", scores)\n",
    "\n",
    "# Make cross validated predictions\n",
    "predictions = cross_val_predict(model, X, Y, cv=6)\n",
    "plt.scatter(Y, predictions)\n",
    "\n",
    "accuracy = metrics.r2_score(Y, predictions)\n",
    "print(\"Cross-Predicted Accuracy:\", accuracy)"
   ]
  },
  {
   "attachments": {},
   "cell_type": "markdown",
   "metadata": {},
   "source": [
    "## Decision Tree Classifier"
   ]
  },
  {
   "cell_type": "code",
   "execution_count": 28,
   "metadata": {},
   "outputs": [],
   "source": [
    "# Function to train a decision tree classifier using the Gini Index\n",
    "def train_decision_tree_gini(X_train, X_test, y_train): \n",
    "    # Create the decision tree classifier object with Gini Index as criterion\n",
    "    clf_gini = DecisionTreeClassifier(criterion=\"gini\", \n",
    "                                       random_state=100,\n",
    "                                       max_depth=3,\n",
    "                                       min_samples_leaf=5) \n",
    "  \n",
    "    # Train the classifier on the training data\n",
    "    clf_gini.fit(X_train, y_train) \n",
    "    return clf_gini"
   ]
  },
  {
   "cell_type": "code",
   "execution_count": 29,
   "metadata": {},
   "outputs": [],
   "source": [
    "# Function to train decision tree using entropy criterion\n",
    "def train_using_entropy(X_train, X_test, y_train):\n",
    "    \"\"\"\n",
    "    Trains a decision tree classifier using entropy as the split criterion\n",
    "    \n",
    "    Args:\n",
    "    - X_train (array-like, shape = [n_samples, n_features]): Training input samples\n",
    "    - X_test (array-like, shape = [n_samples, n_features]): Test input samples\n",
    "    - y_train (array-like, shape = [n_samples]): Target values for the training set\n",
    "    \n",
    "    Returns:\n",
    "    - clf_entropy (DecisionTreeClassifier): Fitted decision tree classifier using entropy as the split criterion\n",
    "    \"\"\"\n",
    "  \n",
    "    # Create decision tree classifier object\n",
    "    clf_entropy = DecisionTreeClassifier( \n",
    "            criterion = \"entropy\", \n",
    "            random_state = 100, \n",
    "            max_depth = 3, \n",
    "            min_samples_leaf = 5) \n",
    "  \n",
    "    # Fit decision tree classifier to training data\n",
    "    clf_entropy.fit(X_train, y_train) \n",
    "    \n",
    "    # Return the trained classifier\n",
    "    return clf_entropy"
   ]
  },
  {
   "cell_type": "code",
   "execution_count": 30,
   "metadata": {},
   "outputs": [],
   "source": [
    "# Function to make predictions using a trained classifier\n",
    "def make_predictions(X_test, clf): \n",
    "\n",
    "    # Predictions using the classifier \n",
    "    y_pred = clf.predict(X_test) \n",
    "    # Print the predicted values (optional)\n",
    "    # print(\"Predicted values:\") \n",
    "    # print(y_pred) \n",
    "    return y_pred"
   ]
  },
  {
   "cell_type": "code",
   "execution_count": 31,
   "metadata": {},
   "outputs": [],
   "source": [
    "def calculate_accuracy(y_true, y_pred): \n",
    "    \"\"\"\n",
    "    Calculates and prints the accuracy, confusion matrix and classification report \n",
    "    for a set of true labels and predicted labels.\n",
    "    \n",
    "    Parameters:\n",
    "    y_true (array-like): The true labels of the data.\n",
    "    y_pred (array-like): The predicted labels for the data.\n",
    "    \"\"\"\n",
    "    # Compute the confusion matrix\n",
    "    cm = confusion_matrix(y_true, y_pred)\n",
    "    print(\"Confusion Matrix:\\n\", cm)\n",
    "\n",
    "    # Compute the accuracy score\n",
    "    acc = accuracy_score(y_true, y_pred)\n",
    "    print(\"Accuracy: {:.2f}%\".format(acc*100))\n",
    "\n",
    "    # Compute and print the classification report\n",
    "    report = classification_report(y_true, y_pred)\n",
    "    print(\"Classification Report:\\n\", report)"
   ]
  },
  {
   "cell_type": "code",
   "execution_count": 32,
   "metadata": {},
   "outputs": [],
   "source": [
    "# Building Phase \n",
    "clf_gini = train_decision_tree_gini(X_train, X_test, y_train) \n",
    "clf_entropy = train_using_entropy(X_train, X_test, y_train) "
   ]
  },
  {
   "cell_type": "code",
   "execution_count": 33,
   "metadata": {},
   "outputs": [
    {
     "name": "stdout",
     "output_type": "stream",
     "text": [
      "Confusion Matrix:\n",
      " [[140  10]\n",
      " [ 54  27]]\n",
      "Accuracy: 72.29%\n",
      "Classification Report:\n",
      "               precision    recall  f1-score   support\n",
      "\n",
      "         0.0       0.72      0.93      0.81       150\n",
      "         1.0       0.73      0.33      0.46        81\n",
      "\n",
      "    accuracy                           0.72       231\n",
      "   macro avg       0.73      0.63      0.64       231\n",
      "weighted avg       0.72      0.72      0.69       231\n",
      "\n"
     ]
    }
   ],
   "source": [
    "import warnings\n",
    "warnings.filterwarnings(\"ignore\")\n",
    "\n",
    "# Make predictions using the gini model\n",
    "y_pred_gini = make_predictions(X_test, clf_gini)\n",
    "\n",
    "# Calculate accuracy of the gini model\n",
    "calculate_accuracy(y_test, y_pred_gini)"
   ]
  },
  {
   "cell_type": "code",
   "execution_count": 34,
   "metadata": {},
   "outputs": [
    {
     "name": "stdout",
     "output_type": "stream",
     "text": [
      "Confusion Matrix:\n",
      " [[140  10]\n",
      " [ 54  27]]\n",
      "Accuracy: 72.29%\n",
      "Classification Report:\n",
      "               precision    recall  f1-score   support\n",
      "\n",
      "         0.0       0.72      0.93      0.81       150\n",
      "         1.0       0.73      0.33      0.46        81\n",
      "\n",
      "    accuracy                           0.72       231\n",
      "   macro avg       0.73      0.63      0.64       231\n",
      "weighted avg       0.72      0.72      0.69       231\n",
      "\n"
     ]
    }
   ],
   "source": [
    "# Predict using the entropy classifier\n",
    "y_pred_entropy = make_predictions(X_test, clf_entropy) \n",
    "\n",
    "# Calculate and print the accuracy of the entropy classifier\n",
    "calculate_accuracy(y_test, y_pred_entropy)"
   ]
  },
  {
   "attachments": {},
   "cell_type": "markdown",
   "metadata": {},
   "source": [
    "## Random Forest"
   ]
  },
  {
   "cell_type": "code",
   "execution_count": 35,
   "metadata": {},
   "outputs": [
    {
     "name": "stdout",
     "output_type": "stream",
     "text": [
      "Random Forest Accuracy :  0.7733766233766234\n"
     ]
    }
   ],
   "source": [
    "# Set the seed for reproducibility\n",
    "random_seed = 7\n",
    "\n",
    "# Define the number of trees to use in the random forest\n",
    "num_trees = 100\n",
    "\n",
    "# Define the maximum number of features to consider when splitting each tree\n",
    "max_features = 3\n",
    "\n",
    "# Define the number of folds for cross-validation\n",
    "kfold_cv = KFold(n_splits=10)\n",
    "\n",
    "# Create a random forest classifier with the specified number of trees and maximum number of features\n",
    "model = RandomForestClassifier(n_estimators=num_trees, max_features=max_features, random_state=random_seed)\n",
    "\n",
    "# Evaluate the random forest classifier using cross-validation\n",
    "scores = cross_val_score(model, X, Y, cv=kfold_cv)\n",
    "print(\"Random Forest Accuracy : \", scores.mean())"
   ]
  },
  {
   "cell_type": "code",
   "execution_count": 36,
   "metadata": {},
   "outputs": [],
   "source": [
    "# Train the Random Forest model on the training data\n",
    "trained_random_forest_model = model.fit(X_train, y_train)"
   ]
  },
  {
   "cell_type": "code",
   "execution_count": 37,
   "metadata": {},
   "outputs": [
    {
     "name": "stdout",
     "output_type": "stream",
     "text": [
      "Confusion Matrix:\n",
      " [[122  28]\n",
      " [ 33  48]]\n",
      "Accuracy: 73.59%\n",
      "Classification Report:\n",
      "               precision    recall  f1-score   support\n",
      "\n",
      "         0.0       0.79      0.81      0.80       150\n",
      "         1.0       0.63      0.59      0.61        81\n",
      "\n",
      "    accuracy                           0.74       231\n",
      "   macro avg       0.71      0.70      0.71       231\n",
      "weighted avg       0.73      0.74      0.73       231\n",
      "\n"
     ]
    }
   ],
   "source": [
    "# Use the trained random forest model to make predictions on the test data\n",
    "y_pred_random_forest = trained_random_forest_model.predict(X_test)\n",
    "\n",
    "# Evaluate the accuracy of the random forest model predictions\n",
    "calculate_accuracy(y_test, y_pred_random_forest)"
   ]
  },
  {
   "attachments": {},
   "cell_type": "markdown",
   "metadata": {},
   "source": [
    "## Bagging"
   ]
  },
  {
   "cell_type": "code",
   "execution_count": 38,
   "metadata": {},
   "outputs": [
    {
     "name": "stdout",
     "output_type": "stream",
     "text": [
      "Bagging Accuracy: 0.7720437457279563\n"
     ]
    }
   ],
   "source": [
    "# Set the seed for reproducibility\n",
    "random_seed = 7\n",
    "\n",
    "# Define the base classifier\n",
    "base_classifier = DecisionTreeClassifier()\n",
    "\n",
    "# Define the number of trees to use in the bagging classifier\n",
    "num_trees = 100\n",
    "\n",
    "# Define the number of folds for cross-validation\n",
    "kfold_cv = KFold(n_splits=10)\n",
    "\n",
    "# Create a bagging classifier with the specified base classifier, number of trees, and random state\n",
    "model = BaggingClassifier(base_estimator=base_classifier, n_estimators=num_trees, random_state=random_seed)\n",
    "\n",
    "# Evaluate the bagging classifier using cross-validation\n",
    "scores = cross_val_score(model, X, Y, cv=kfold_cv)\n",
    "print(\"Bagging Accuracy:\", scores.mean())"
   ]
  },
  {
   "cell_type": "code",
   "execution_count": 39,
   "metadata": {},
   "outputs": [],
   "source": [
    "# Train the Bagging model on the training data\n",
    "trained_bagging_model = model.fit(X_train, y_train)"
   ]
  },
  {
   "cell_type": "code",
   "execution_count": 40,
   "metadata": {},
   "outputs": [
    {
     "name": "stdout",
     "output_type": "stream",
     "text": [
      "Confusion Matrix:\n",
      " [[123  27]\n",
      " [ 35  46]]\n",
      "Accuracy: 73.16%\n",
      "Classification Report:\n",
      "               precision    recall  f1-score   support\n",
      "\n",
      "         0.0       0.78      0.82      0.80       150\n",
      "         1.0       0.63      0.57      0.60        81\n",
      "\n",
      "    accuracy                           0.73       231\n",
      "   macro avg       0.70      0.69      0.70       231\n",
      "weighted avg       0.73      0.73      0.73       231\n",
      "\n"
     ]
    }
   ],
   "source": [
    "# Use the trained Bagging model to make predictions on the test data\n",
    "y_pred_bagging = trained_bagging_model.predict(X_test)\n",
    "\n",
    "# Evaluate the accuracy of the Bagging model predictions\n",
    "calculate_accuracy(y_test, y_pred_bagging)"
   ]
  },
  {
   "attachments": {},
   "cell_type": "markdown",
   "metadata": {},
   "source": [
    "## Adaboost"
   ]
  },
  {
   "cell_type": "code",
   "execution_count": 41,
   "metadata": {},
   "outputs": [
    {
     "name": "stdout",
     "output_type": "stream",
     "text": [
      "AdaBoost Accuracy: 0.760457963089542\n"
     ]
    }
   ],
   "source": [
    "# Set the seed for reproducibility\n",
    "random_seed = 7\n",
    "\n",
    "# Define the number of trees to use in the AdaBoost classifier\n",
    "num_trees = 30\n",
    "\n",
    "# Define the number of folds for cross-validation\n",
    "kfold_cv = KFold(n_splits=10)\n",
    "\n",
    "# Create an AdaBoost classifier with the specified number of trees and random state\n",
    "model = AdaBoostClassifier(n_estimators=num_trees, random_state=random_seed)\n",
    "\n",
    "# Evaluate the AdaBoost classifier using cross-validation\n",
    "scores = cross_val_score(model, X, Y, cv=kfold_cv)\n",
    "print(\"AdaBoost Accuracy:\", scores.mean())"
   ]
  },
  {
   "cell_type": "code",
   "execution_count": 42,
   "metadata": {},
   "outputs": [],
   "source": [
    "# Train the AdaBoost model on the training data\n",
    "trained_adaboost_model = model.fit(X_train, y_train)"
   ]
  },
  {
   "cell_type": "code",
   "execution_count": 43,
   "metadata": {},
   "outputs": [
    {
     "name": "stdout",
     "output_type": "stream",
     "text": [
      "Confusion Matrix:\n",
      " [[120  30]\n",
      " [ 37  44]]\n",
      "Accuracy: 71.00%\n",
      "Classification Report:\n",
      "               precision    recall  f1-score   support\n",
      "\n",
      "         0.0       0.76      0.80      0.78       150\n",
      "         1.0       0.59      0.54      0.57        81\n",
      "\n",
      "    accuracy                           0.71       231\n",
      "   macro avg       0.68      0.67      0.67       231\n",
      "weighted avg       0.70      0.71      0.71       231\n",
      "\n"
     ]
    }
   ],
   "source": [
    "# Use the trained AdaBoost model to make predictions on the test data\n",
    "y_pred_adaboost = trained_adaboost_model.predict(X_test)\n",
    "\n",
    "# Evaluate the accuracy of the AdaBoost model predictions\n",
    "calculate_accuracy(y_test, y_pred_adaboost)"
   ]
  },
  {
   "attachments": {},
   "cell_type": "markdown",
   "metadata": {},
   "source": [
    "## Boosting"
   ]
  },
  {
   "cell_type": "code",
   "execution_count": 45,
   "metadata": {},
   "outputs": [
    {
     "name": "stdout",
     "output_type": "stream",
     "text": [
      "Gradient Boosting Accuracy: 0.7681989063568012\n"
     ]
    }
   ],
   "source": [
    "\n",
    "# Set the seed for reproducibility\n",
    "random_seed = 7\n",
    "\n",
    "# Define the number of trees to use in the Gradient Boosting classifier\n",
    "num_trees = 100\n",
    "\n",
    "# Define the number of folds for cross-validation\n",
    "kfold_cv = KFold(n_splits=10)\n",
    "\n",
    "# Create a Gradient Boosting classifier with the specified number of trees and random state\n",
    "model = GradientBoostingClassifier(n_estimators=num_trees, random_state=random_seed)\n",
    "\n",
    "# Evaluate the Gradient Boosting classifier using cross-validation\n",
    "scores = cross_val_score(model, X, Y, cv=kfold_cv)\n",
    "print(\"Gradient Boosting Accuracy:\", scores.mean())"
   ]
  },
  {
   "cell_type": "code",
   "execution_count": 46,
   "metadata": {},
   "outputs": [],
   "source": [
    "# Train the Gradient Boosting model on the training data\n",
    "trained_gb_model = model.fit(X_train, y_train)"
   ]
  },
  {
   "cell_type": "code",
   "execution_count": 47,
   "metadata": {},
   "outputs": [
    {
     "name": "stdout",
     "output_type": "stream",
     "text": [
      "Confusion Matrix:\n",
      " [[117  33]\n",
      " [ 32  49]]\n",
      "Accuracy: 71.86%\n",
      "Classification Report:\n",
      "               precision    recall  f1-score   support\n",
      "\n",
      "         0.0       0.79      0.78      0.78       150\n",
      "         1.0       0.60      0.60      0.60        81\n",
      "\n",
      "    accuracy                           0.72       231\n",
      "   macro avg       0.69      0.69      0.69       231\n",
      "weighted avg       0.72      0.72      0.72       231\n",
      "\n"
     ]
    }
   ],
   "source": [
    "# Use the trained Gradient Boosting model to make predictions on the test data\n",
    "y_pred_gb = trained_gb_model.predict(X_test)\n",
    "\n",
    "# Evaluate the accuracy of the Gradient Boosting model predictions\n",
    "calculate_accuracy(y_test, y_pred_gb)"
   ]
  },
  {
   "attachments": {},
   "cell_type": "markdown",
   "metadata": {},
   "source": [
    "## Reflect on the applicability of the methods studied"
   ]
  },
  {
   "attachments": {},
   "cell_type": "markdown",
   "metadata": {},
   "source": [
    "In this Jupyter notebook, various machine learning models were applied to the Pima Indians Diabetes Dataset to predict diabetes outcomes. The models used include linear regression, decision tree classifiers with gini and entropy, random forest, bagging, AdaBoost, and gradient boosting classifiers. The performance of each model was evaluated using cross-validation and different metrics such as accuracy and confusion matrix.\n",
    "\n",
    "The Random Forest model achieved the highest accuracy of 77.34%, compared to the others. The decision tree classifiers with gini and entropy, both resulted in an accuracy of 72.29% on the test set. Random Forest and Bagging achieved similar accuracies of 73.59% and 73.16% respectively, while AdaBoost and Gradient Boosting had accuracies of 71.00% and 71.86% respectively.\n",
    "\n",
    "Based on these results, the Random Forest model has the best performance for this dataset. However, it is also important to consider other metrics - especially in medical screening, a high recall is preferred to ensure that as many patients with the condition are identified. One type of error, in this case a false positive, is generally more preferable than the other."
   ]
  }
 ],
 "metadata": {
  "kernelspec": {
   "display_name": "base",
   "language": "python",
   "name": "python3"
  },
  "language_info": {
   "codemirror_mode": {
    "name": "ipython",
    "version": 3
   },
   "file_extension": ".py",
   "mimetype": "text/x-python",
   "name": "python",
   "nbconvert_exporter": "python",
   "pygments_lexer": "ipython3",
   "version": "3.9.13"
  },
  "orig_nbformat": 4
 },
 "nbformat": 4,
 "nbformat_minor": 2
}
